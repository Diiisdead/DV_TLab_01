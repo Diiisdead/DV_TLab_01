{
 "cells": [
  {
   "cell_type": "markdown",
   "metadata": {},
   "source": [
    "# I. Thông tin Dataset\n",
    "\n",
    "## Ngữ cảnh:\n",
    "Hiện nay với sự phát triển của ngành công nghiệp ô tô và sự phổ biến của ô tô trong đời sống, tiết kiệm nguyên liệu là một trong những tiêu chí quan trọng trong việc đánh giá một chiếc ô tô. Phân tích khả năng tiết kiệm nhiên liệu trong ngành công nghiệp ô tô mang lại nhiều lợi ích quan trọng, bao gồm:\n",
    "- Giảm chi phí vận hành\n",
    "- Bảo vệ môi trường\n",
    "- Nâng cao tính cạnh tranh\n",
    "- Phát triển công nghệ mới\n",
    "- Đảm bảo an ninh năng lượng\n",
    "\n",
    "Vì thế nên chúng em quyết định sẽ phân tích và đưa ra cái nhìn tổng quan chi tiết về khả năng tiết kiệm nhiên liệu trong ngành công nghiệp ô tô.\n",
    "## Nguồn gốc\n",
    "Dataset được lấy từ Kaggle (https://www.kaggle.com/datasets/tanishqdublish/vehcile-fuel-consumption/data)\n",
    "\n",
    "## Nội dung\n",
    "Bộ dữ liệu này cung cấp cái nhìn tổng quan chi tiết về khả năng tiết kiệm nhiên liệu trong ngành công nghiệp ô tô, bao gồm thông tin về nhiều loại xe từ các năm, nhãn hiệu và kiểu dáng khác nhau. Nó bao gồm các chi tiết về thông số kỹ thuật của động cơ, loại nhiên liệu, hệ thống truyền động cũng như các yếu tố như khả năng tiết kiệm nhiên liệu, lượng khí thải CO2 và tính năng công nghệ.\n",
    "\n",
    "## License\n",
    "- [Apache 2.0](https://www.apache.org/licenses/LICENSE-2.0)\n",
    "\n",
    "## Phương pháp thu thập\n",
    "Dataset được tác giả lấy từ trang https://www.fueleconomy.gov/feg/ws/\n",
    "\n",
    "Phương pháp:..."
   ]
  },
  {
   "cell_type": "markdown",
   "metadata": {},
   "source": [
    "# II. Khám phá dữ liệu:"
   ]
  },
  {
   "cell_type": "markdown",
   "metadata": {},
   "source": [
    "### Import thư viện cần thiết\n",
    "\n",
    "Trước hết, import các thư viện cần thiết cho việc khám phá, xử lý và phân tích trở nên dễ dàng hơn."
   ]
  },
  {
   "cell_type": "code",
   "execution_count": 13,
   "metadata": {},
   "outputs": [],
   "source": [
    "import pandas as pd\n",
    "import numpy as np\n",
    "import matplotlib.pyplot as plt\n",
    "import plotly.express as px"
   ]
  },
  {
   "cell_type": "markdown",
   "metadata": {},
   "source": [
    "### Đọc dataset từ file csv\n",
    "Đọc dữ liệu từ file `fuel.csv` được cung cấp"
   ]
  },
  {
   "cell_type": "code",
   "execution_count": 14,
   "metadata": {},
   "outputs": [
    {
     "name": "stderr",
     "output_type": "stream",
     "text": [
      "c:\\Users\\duypr\\.conda\\envs\\min_ds-env\\lib\\site-packages\\IPython\\core\\interactiveshell.py:3269: DtypeWarning: Columns (7,44) have mixed types.Specify dtype option on import or set low_memory=False.\n",
      "  has_raised = await self.run_ast_nodes(code_ast.body, cell_name,\n"
     ]
    }
   ],
   "source": [
    "raw_data = pd.read_csv('../data/fuel.csv')"
   ]
  },
  {
   "cell_type": "markdown",
   "metadata": {},
   "source": [
    "### In 5 dòng đầu tiên của dataset"
   ]
  },
  {
   "cell_type": "code",
   "execution_count": 15,
   "metadata": {},
   "outputs": [
    {
     "data": {
      "text/html": [
       "<div>\n",
       "<style scoped>\n",
       "    .dataframe tbody tr th:only-of-type {\n",
       "        vertical-align: middle;\n",
       "    }\n",
       "\n",
       "    .dataframe tbody tr th {\n",
       "        vertical-align: top;\n",
       "    }\n",
       "\n",
       "    .dataframe thead th {\n",
       "        text-align: right;\n",
       "    }\n",
       "</style>\n",
       "<table border=\"1\" class=\"dataframe\">\n",
       "  <thead>\n",
       "    <tr style=\"text-align: right;\">\n",
       "      <th></th>\n",
       "      <th>vehicle_id</th>\n",
       "      <th>year</th>\n",
       "      <th>make</th>\n",
       "      <th>model</th>\n",
       "      <th>class</th>\n",
       "      <th>drive</th>\n",
       "      <th>transmission</th>\n",
       "      <th>transmission_type</th>\n",
       "      <th>engine_index</th>\n",
       "      <th>engine_descriptor</th>\n",
       "      <th>...</th>\n",
       "      <th>hours_to_charge_ac_240v</th>\n",
       "      <th>composite_city_mpg</th>\n",
       "      <th>composite_highway_mpg</th>\n",
       "      <th>composite_combined_mpg</th>\n",
       "      <th>range_ft1</th>\n",
       "      <th>city_range_ft1</th>\n",
       "      <th>highway_range_ft1</th>\n",
       "      <th>range_ft2</th>\n",
       "      <th>city_range_ft2</th>\n",
       "      <th>highway_range_ft2</th>\n",
       "    </tr>\n",
       "  </thead>\n",
       "  <tbody>\n",
       "    <tr>\n",
       "      <th>0</th>\n",
       "      <td>26587</td>\n",
       "      <td>1984</td>\n",
       "      <td>Alfa Romeo</td>\n",
       "      <td>GT V6 2.5</td>\n",
       "      <td>Minicompact Cars</td>\n",
       "      <td>NaN</td>\n",
       "      <td>Manual 5-Speed</td>\n",
       "      <td>NaN</td>\n",
       "      <td>9001</td>\n",
       "      <td>(FFS)</td>\n",
       "      <td>...</td>\n",
       "      <td>0.0</td>\n",
       "      <td>0</td>\n",
       "      <td>0</td>\n",
       "      <td>0</td>\n",
       "      <td>0</td>\n",
       "      <td>0.0</td>\n",
       "      <td>0.0</td>\n",
       "      <td>NaN</td>\n",
       "      <td>0.0</td>\n",
       "      <td>0.0</td>\n",
       "    </tr>\n",
       "    <tr>\n",
       "      <th>1</th>\n",
       "      <td>27705</td>\n",
       "      <td>1984</td>\n",
       "      <td>Alfa Romeo</td>\n",
       "      <td>GT V6 2.5</td>\n",
       "      <td>Minicompact Cars</td>\n",
       "      <td>NaN</td>\n",
       "      <td>Manual 5-Speed</td>\n",
       "      <td>NaN</td>\n",
       "      <td>9005</td>\n",
       "      <td>(FFS) CA model</td>\n",
       "      <td>...</td>\n",
       "      <td>0.0</td>\n",
       "      <td>0</td>\n",
       "      <td>0</td>\n",
       "      <td>0</td>\n",
       "      <td>0</td>\n",
       "      <td>0.0</td>\n",
       "      <td>0.0</td>\n",
       "      <td>NaN</td>\n",
       "      <td>0.0</td>\n",
       "      <td>0.0</td>\n",
       "    </tr>\n",
       "    <tr>\n",
       "      <th>2</th>\n",
       "      <td>26561</td>\n",
       "      <td>1984</td>\n",
       "      <td>Alfa Romeo</td>\n",
       "      <td>Spider Veloce 2000</td>\n",
       "      <td>Two Seaters</td>\n",
       "      <td>NaN</td>\n",
       "      <td>Manual 5-Speed</td>\n",
       "      <td>NaN</td>\n",
       "      <td>9002</td>\n",
       "      <td>(FFS)</td>\n",
       "      <td>...</td>\n",
       "      <td>0.0</td>\n",
       "      <td>0</td>\n",
       "      <td>0</td>\n",
       "      <td>0</td>\n",
       "      <td>0</td>\n",
       "      <td>0.0</td>\n",
       "      <td>0.0</td>\n",
       "      <td>NaN</td>\n",
       "      <td>0.0</td>\n",
       "      <td>0.0</td>\n",
       "    </tr>\n",
       "    <tr>\n",
       "      <th>3</th>\n",
       "      <td>27681</td>\n",
       "      <td>1984</td>\n",
       "      <td>Alfa Romeo</td>\n",
       "      <td>Spider Veloce 2000</td>\n",
       "      <td>Two Seaters</td>\n",
       "      <td>NaN</td>\n",
       "      <td>Manual 5-Speed</td>\n",
       "      <td>NaN</td>\n",
       "      <td>9006</td>\n",
       "      <td>(FFS) CA model</td>\n",
       "      <td>...</td>\n",
       "      <td>0.0</td>\n",
       "      <td>0</td>\n",
       "      <td>0</td>\n",
       "      <td>0</td>\n",
       "      <td>0</td>\n",
       "      <td>0.0</td>\n",
       "      <td>0.0</td>\n",
       "      <td>NaN</td>\n",
       "      <td>0.0</td>\n",
       "      <td>0.0</td>\n",
       "    </tr>\n",
       "    <tr>\n",
       "      <th>4</th>\n",
       "      <td>27550</td>\n",
       "      <td>1984</td>\n",
       "      <td>AM General</td>\n",
       "      <td>DJ Po Vehicle 2WD</td>\n",
       "      <td>Special Purpose Vehicle 2WD</td>\n",
       "      <td>2-Wheel Drive</td>\n",
       "      <td>Automatic 3-Speed</td>\n",
       "      <td>NaN</td>\n",
       "      <td>1830</td>\n",
       "      <td>(FFS)</td>\n",
       "      <td>...</td>\n",
       "      <td>0.0</td>\n",
       "      <td>0</td>\n",
       "      <td>0</td>\n",
       "      <td>0</td>\n",
       "      <td>0</td>\n",
       "      <td>0.0</td>\n",
       "      <td>0.0</td>\n",
       "      <td>NaN</td>\n",
       "      <td>0.0</td>\n",
       "      <td>0.0</td>\n",
       "    </tr>\n",
       "  </tbody>\n",
       "</table>\n",
       "<p>5 rows × 81 columns</p>\n",
       "</div>"
      ],
      "text/plain": [
       "   vehicle_id  year        make               model  \\\n",
       "0       26587  1984  Alfa Romeo           GT V6 2.5   \n",
       "1       27705  1984  Alfa Romeo           GT V6 2.5   \n",
       "2       26561  1984  Alfa Romeo  Spider Veloce 2000   \n",
       "3       27681  1984  Alfa Romeo  Spider Veloce 2000   \n",
       "4       27550  1984  AM General   DJ Po Vehicle 2WD   \n",
       "\n",
       "                         class          drive       transmission  \\\n",
       "0             Minicompact Cars            NaN     Manual 5-Speed   \n",
       "1             Minicompact Cars            NaN     Manual 5-Speed   \n",
       "2                  Two Seaters            NaN     Manual 5-Speed   \n",
       "3                  Two Seaters            NaN     Manual 5-Speed   \n",
       "4  Special Purpose Vehicle 2WD  2-Wheel Drive  Automatic 3-Speed   \n",
       "\n",
       "  transmission_type  engine_index engine_descriptor  ...  \\\n",
       "0               NaN          9001             (FFS)  ...   \n",
       "1               NaN          9005    (FFS) CA model  ...   \n",
       "2               NaN          9002             (FFS)  ...   \n",
       "3               NaN          9006    (FFS) CA model  ...   \n",
       "4               NaN          1830             (FFS)  ...   \n",
       "\n",
       "   hours_to_charge_ac_240v  composite_city_mpg composite_highway_mpg  \\\n",
       "0                      0.0                   0                     0   \n",
       "1                      0.0                   0                     0   \n",
       "2                      0.0                   0                     0   \n",
       "3                      0.0                   0                     0   \n",
       "4                      0.0                   0                     0   \n",
       "\n",
       "   composite_combined_mpg range_ft1 city_range_ft1  highway_range_ft1  \\\n",
       "0                       0         0            0.0                0.0   \n",
       "1                       0         0            0.0                0.0   \n",
       "2                       0         0            0.0                0.0   \n",
       "3                       0         0            0.0                0.0   \n",
       "4                       0         0            0.0                0.0   \n",
       "\n",
       "   range_ft2  city_range_ft2  highway_range_ft2  \n",
       "0        NaN             0.0                0.0  \n",
       "1        NaN             0.0                0.0  \n",
       "2        NaN             0.0                0.0  \n",
       "3        NaN             0.0                0.0  \n",
       "4        NaN             0.0                0.0  \n",
       "\n",
       "[5 rows x 81 columns]"
      ]
     },
     "execution_count": 15,
     "metadata": {},
     "output_type": "execute_result"
    }
   ],
   "source": [
    "raw_data.head()"
   ]
  },
  {
   "cell_type": "markdown",
   "metadata": {},
   "source": [
    "### Số dòng và cột của dataset:"
   ]
  },
  {
   "cell_type": "code",
   "execution_count": 16,
   "metadata": {},
   "outputs": [
    {
     "data": {
      "text/plain": [
       "(38113, 81)"
      ]
     },
     "execution_count": 16,
     "metadata": {},
     "output_type": "execute_result"
    }
   ],
   "source": [
    "raw_data.shape"
   ]
  },
  {
   "cell_type": "markdown",
   "metadata": {},
   "source": [
    "Như vậy bộ dữ liệu của chúng ta có 38113 dòng và 81 cột"
   ]
  },
  {
   "cell_type": "markdown",
   "metadata": {},
   "source": [
    "### Ý nghĩa của mỗi dòng và cột\n",
    "- Mỗi dòng mang ý nghĩa là những thông tin của mỗi một mẫu xe. Vì mỗi dòng mang thông tin của một mẫu xe khác nhau nên không có vấn đề nếu các dòng có ý nghĩa khác.\n",
    "- Mỗi cột là mỗi một thuộc tính của mỗi chiếc xe."
   ]
  },
  {
   "cell_type": "markdown",
   "metadata": {},
   "source": [
    "### Các cột của dataset"
   ]
  },
  {
   "cell_type": "code",
   "execution_count": 17,
   "metadata": {},
   "outputs": [
    {
     "data": {
      "text/plain": [
       "array(['vehicle_id', 'year', 'make', 'model', 'class', 'drive',\n",
       "       'transmission', 'transmission_type', 'engine_index',\n",
       "       'engine_descriptor', 'engine_cylinders', 'engine_displacement',\n",
       "       'turbocharger', 'supercharger', 'fuel_type', 'fuel_type_1',\n",
       "       'fuel_type_2', 'city_mpg_ft1', 'unrounded_city_mpg_ft1',\n",
       "       'city_mpg_ft2', 'unrounded_city_mpg_ft2',\n",
       "       'city_gasoline_consumption_cd', 'city_electricity_consumption',\n",
       "       'city_utility_factor', 'highway_mpg_ft1',\n",
       "       'unrounded_highway_mpg_ft1', 'highway_mpg_ft2',\n",
       "       'unrounded_highway_mpg_ft2', 'highway_gasoline_consumption_cd',\n",
       "       'highway_electricity_consumption', 'highway_utility_factor',\n",
       "       'unadjusted_city_mpg_ft1', 'unadjusted_highway_mpg_ft1',\n",
       "       'unadjusted_city_mpg_ft2', 'unadjusted_highway_mpg_ft2',\n",
       "       'combined_mpg_ft1', 'unrounded_combined_mpg_ft1',\n",
       "       'combined_mpg_ft2', 'unrounded_combined_mpg_ft2',\n",
       "       'combined_electricity_consumption',\n",
       "       'combined_gasoline_consumption_cd', 'combined_utility_factor',\n",
       "       'annual_fuel_cost_ft1', 'annual_fuel_cost_ft2', 'gas_guzzler_tax',\n",
       "       'save_or_spend_5_year', 'annual_consumption_in_barrels_ft1',\n",
       "       'annual_consumption_in_barrels_ft2', 'tailpipe_co2_ft1',\n",
       "       'tailpipe_co2_in_grams_mile_ft1', 'tailpipe_co2_ft2',\n",
       "       'tailpipe_co2_in_grams_mile_ft2', 'fuel_economy_score',\n",
       "       'ghg_score', 'ghg_score_alt_fuel', 'my_mpg_data',\n",
       "       'x2d_passenger_volume', 'x2d_luggage_volume',\n",
       "       'x4d_passenger_volume', 'x4d_luggage_volume',\n",
       "       'hatchback_passenger_volume', 'hatchback_luggage_volume',\n",
       "       'start_stop_technology', 'alternative_fuel_technology',\n",
       "       'electric_motor', 'manufacturer_code',\n",
       "       'gasoline_electricity_blended_cd', 'vehicle_charger',\n",
       "       'alternate_charger', 'hours_to_charge_120v',\n",
       "       'hours_to_charge_240v', 'hours_to_charge_ac_240v',\n",
       "       'composite_city_mpg', 'composite_highway_mpg',\n",
       "       'composite_combined_mpg', 'range_ft1', 'city_range_ft1',\n",
       "       'highway_range_ft1', 'range_ft2', 'city_range_ft2',\n",
       "       'highway_range_ft2'], dtype=object)"
      ]
     },
     "execution_count": 17,
     "metadata": {},
     "output_type": "execute_result"
    }
   ],
   "source": [
    "np.array(raw_data.columns)"
   ]
  },
  {
   "cell_type": "markdown",
   "metadata": {},
   "source": [
    "### Lựa chọn các cột cần thiết\n",
    "\n",
    "Vì phạm vi của project này chỉ là khám phá mối quan hệ trong dữ liệu, nên chúng ta không cần phải sử dụng tận 81 cột của dataset này. Ta chỉ cần lấy khoảng 15 thuộc tính đổ lại để phục vụ cho project này."
   ]
  },
  {
   "cell_type": "code",
   "execution_count": 18,
   "metadata": {},
   "outputs": [],
   "source": [
    "raw_data = raw_data[['vehicle_id', 'year', 'model', 'class', 'drive',\n",
    "                    'transmission', 'engine_cylinders', 'engine_displacement',\n",
    "                    'turbocharger', 'supercharger', 'fuel_type', 'fuel_type_1',\n",
    "                    'city_mpg_ft1', 'highway_mpg_ft1', 'unadjusted_city_mpg_ft1']]"
   ]
  },
  {
   "cell_type": "code",
   "execution_count": 20,
   "metadata": {},
   "outputs": [
    {
     "data": {
      "text/html": [
       "<div>\n",
       "<style scoped>\n",
       "    .dataframe tbody tr th:only-of-type {\n",
       "        vertical-align: middle;\n",
       "    }\n",
       "\n",
       "    .dataframe tbody tr th {\n",
       "        vertical-align: top;\n",
       "    }\n",
       "\n",
       "    .dataframe thead th {\n",
       "        text-align: right;\n",
       "    }\n",
       "</style>\n",
       "<table border=\"1\" class=\"dataframe\">\n",
       "  <thead>\n",
       "    <tr style=\"text-align: right;\">\n",
       "      <th></th>\n",
       "      <th>vehicle_id</th>\n",
       "      <th>year</th>\n",
       "      <th>model</th>\n",
       "      <th>class</th>\n",
       "      <th>drive</th>\n",
       "      <th>transmission</th>\n",
       "      <th>engine_cylinders</th>\n",
       "      <th>engine_displacement</th>\n",
       "      <th>turbocharger</th>\n",
       "      <th>supercharger</th>\n",
       "      <th>fuel_type</th>\n",
       "      <th>fuel_type_1</th>\n",
       "      <th>city_mpg_ft1</th>\n",
       "      <th>highway_mpg_ft1</th>\n",
       "      <th>unadjusted_city_mpg_ft1</th>\n",
       "    </tr>\n",
       "  </thead>\n",
       "  <tbody>\n",
       "    <tr>\n",
       "      <th>0</th>\n",
       "      <td>26587</td>\n",
       "      <td>1984</td>\n",
       "      <td>GT V6 2.5</td>\n",
       "      <td>Minicompact Cars</td>\n",
       "      <td>NaN</td>\n",
       "      <td>Manual 5-Speed</td>\n",
       "      <td>6.0</td>\n",
       "      <td>2.5</td>\n",
       "      <td>NaN</td>\n",
       "      <td>NaN</td>\n",
       "      <td>Regular</td>\n",
       "      <td>Regular Gasoline</td>\n",
       "      <td>17</td>\n",
       "      <td>24</td>\n",
       "      <td>21.0</td>\n",
       "    </tr>\n",
       "    <tr>\n",
       "      <th>1</th>\n",
       "      <td>27705</td>\n",
       "      <td>1984</td>\n",
       "      <td>GT V6 2.5</td>\n",
       "      <td>Minicompact Cars</td>\n",
       "      <td>NaN</td>\n",
       "      <td>Manual 5-Speed</td>\n",
       "      <td>6.0</td>\n",
       "      <td>2.5</td>\n",
       "      <td>NaN</td>\n",
       "      <td>NaN</td>\n",
       "      <td>Regular</td>\n",
       "      <td>Regular Gasoline</td>\n",
       "      <td>17</td>\n",
       "      <td>24</td>\n",
       "      <td>21.0</td>\n",
       "    </tr>\n",
       "    <tr>\n",
       "      <th>2</th>\n",
       "      <td>26561</td>\n",
       "      <td>1984</td>\n",
       "      <td>Spider Veloce 2000</td>\n",
       "      <td>Two Seaters</td>\n",
       "      <td>NaN</td>\n",
       "      <td>Manual 5-Speed</td>\n",
       "      <td>4.0</td>\n",
       "      <td>2.0</td>\n",
       "      <td>NaN</td>\n",
       "      <td>NaN</td>\n",
       "      <td>Regular</td>\n",
       "      <td>Regular Gasoline</td>\n",
       "      <td>18</td>\n",
       "      <td>25</td>\n",
       "      <td>23.0</td>\n",
       "    </tr>\n",
       "    <tr>\n",
       "      <th>3</th>\n",
       "      <td>27681</td>\n",
       "      <td>1984</td>\n",
       "      <td>Spider Veloce 2000</td>\n",
       "      <td>Two Seaters</td>\n",
       "      <td>NaN</td>\n",
       "      <td>Manual 5-Speed</td>\n",
       "      <td>4.0</td>\n",
       "      <td>2.0</td>\n",
       "      <td>NaN</td>\n",
       "      <td>NaN</td>\n",
       "      <td>Regular</td>\n",
       "      <td>Regular Gasoline</td>\n",
       "      <td>18</td>\n",
       "      <td>25</td>\n",
       "      <td>23.0</td>\n",
       "    </tr>\n",
       "    <tr>\n",
       "      <th>4</th>\n",
       "      <td>27550</td>\n",
       "      <td>1984</td>\n",
       "      <td>DJ Po Vehicle 2WD</td>\n",
       "      <td>Special Purpose Vehicle 2WD</td>\n",
       "      <td>2-Wheel Drive</td>\n",
       "      <td>Automatic 3-Speed</td>\n",
       "      <td>4.0</td>\n",
       "      <td>2.5</td>\n",
       "      <td>NaN</td>\n",
       "      <td>NaN</td>\n",
       "      <td>Regular</td>\n",
       "      <td>Regular Gasoline</td>\n",
       "      <td>18</td>\n",
       "      <td>17</td>\n",
       "      <td>22.0</td>\n",
       "    </tr>\n",
       "  </tbody>\n",
       "</table>\n",
       "</div>"
      ],
      "text/plain": [
       "   vehicle_id  year               model                        class  \\\n",
       "0       26587  1984           GT V6 2.5             Minicompact Cars   \n",
       "1       27705  1984           GT V6 2.5             Minicompact Cars   \n",
       "2       26561  1984  Spider Veloce 2000                  Two Seaters   \n",
       "3       27681  1984  Spider Veloce 2000                  Two Seaters   \n",
       "4       27550  1984   DJ Po Vehicle 2WD  Special Purpose Vehicle 2WD   \n",
       "\n",
       "           drive       transmission  engine_cylinders  engine_displacement  \\\n",
       "0            NaN     Manual 5-Speed               6.0                  2.5   \n",
       "1            NaN     Manual 5-Speed               6.0                  2.5   \n",
       "2            NaN     Manual 5-Speed               4.0                  2.0   \n",
       "3            NaN     Manual 5-Speed               4.0                  2.0   \n",
       "4  2-Wheel Drive  Automatic 3-Speed               4.0                  2.5   \n",
       "\n",
       "  turbocharger  supercharger fuel_type       fuel_type_1  city_mpg_ft1  \\\n",
       "0          NaN           NaN   Regular  Regular Gasoline            17   \n",
       "1          NaN           NaN   Regular  Regular Gasoline            17   \n",
       "2          NaN           NaN   Regular  Regular Gasoline            18   \n",
       "3          NaN           NaN   Regular  Regular Gasoline            18   \n",
       "4          NaN           NaN   Regular  Regular Gasoline            18   \n",
       "\n",
       "   highway_mpg_ft1  unadjusted_city_mpg_ft1  \n",
       "0               24                     21.0  \n",
       "1               24                     21.0  \n",
       "2               25                     23.0  \n",
       "3               25                     23.0  \n",
       "4               17                     22.0  "
      ]
     },
     "execution_count": 20,
     "metadata": {},
     "output_type": "execute_result"
    }
   ],
   "source": [
    "raw_data.head()"
   ]
  },
  {
   "cell_type": "markdown",
   "metadata": {},
   "source": [
    "### Ý nghĩa của các cột"
   ]
  },
  {
   "cell_type": "markdown",
   "metadata": {},
   "source": [
    "### Ý nghĩa của các dòng"
   ]
  },
  {
   "cell_type": "markdown",
   "metadata": {},
   "source": [
    "### Kiểm tra sự trùng lắp giữa các dòng"
   ]
  },
  {
   "cell_type": "code",
   "execution_count": 23,
   "metadata": {},
   "outputs": [
    {
     "data": {
      "text/plain": [
       "0"
      ]
     },
     "execution_count": 23,
     "metadata": {},
     "output_type": "execute_result"
    }
   ],
   "source": [
    "raw_data.duplicated().sum()"
   ]
  },
  {
   "cell_type": "markdown",
   "metadata": {},
   "source": [
    "Như vậy dữ liệu của chúng ta không có sự trùng lắp giữa các dòng"
   ]
  },
  {
   "cell_type": "markdown",
   "metadata": {},
   "source": [
    "### Kiểu dữ liệu của các cột"
   ]
  },
  {
   "cell_type": "code",
   "execution_count": 22,
   "metadata": {},
   "outputs": [
    {
     "data": {
      "text/plain": [
       "vehicle_id                   int64\n",
       "year                         int64\n",
       "model                       object\n",
       "class                       object\n",
       "drive                       object\n",
       "transmission                object\n",
       "engine_cylinders           float64\n",
       "engine_displacement        float64\n",
       "turbocharger                object\n",
       "supercharger               float64\n",
       "fuel_type                   object\n",
       "fuel_type_1                 object\n",
       "city_mpg_ft1                 int64\n",
       "highway_mpg_ft1              int64\n",
       "unadjusted_city_mpg_ft1    float64\n",
       "dtype: object"
      ]
     },
     "execution_count": 22,
     "metadata": {},
     "output_type": "execute_result"
    }
   ],
   "source": [
    "raw_data.dtypes"
   ]
  },
  {
   "cell_type": "markdown",
   "metadata": {},
   "source": [
    "###"
   ]
  },
  {
   "cell_type": "code",
   "execution_count": null,
   "metadata": {},
   "outputs": [],
   "source": []
  }
 ],
 "metadata": {
  "kernelspec": {
   "display_name": "min_ds-env",
   "language": "python",
   "name": "python3"
  },
  "language_info": {
   "codemirror_mode": {
    "name": "ipython",
    "version": 3
   },
   "file_extension": ".py",
   "mimetype": "text/x-python",
   "name": "python",
   "nbconvert_exporter": "python",
   "pygments_lexer": "ipython3",
   "version": "3.8.19"
  }
 },
 "nbformat": 4,
 "nbformat_minor": 2
}
